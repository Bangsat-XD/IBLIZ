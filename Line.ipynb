In [3]:
try:
    a = input("Numero: ")
    10/a
except Exception as x:
    print( type(x).__name__ )
Numero: a
TypeError
In [6]:
try:
    a = float(input("Numero: "))
    10/a
except TypeError:
    print("Esto es una cadena querido")
except ValueError:
    print("la cadena debe ser un nuermo yea")
except ZeroDivisionError:
    print("No se puede dividir por cero")
except Exception as x:
    print( type(x).__name__ )
Numero: 0
No se puede dividir por cero
In [8]:
def profesor(estudiantes=None):
    if estudiantes is None:
        print("Debes escribir algo, sino no llames a la funcion.")
In [9]:
profesor('algo')
In [10]:
profesor()
Debes escribir algo, sino no llames a la funcion.
In [18]:
def profesor(estudiantes=None):
    try:
        if estudiantes is None:
            raise ValueError("Debes escribir algo, sino no llames a la funcion.")
    except ValueError:
        print("No amigo, el valor nulo no se permite")
In [19]:
profesor()
No amigo, el valor nulo no se permite
In [ ]:
